{
 "cells": [
  {
   "cell_type": "code",
   "execution_count": 5,
   "metadata": {},
   "outputs": [],
   "source": [
    "import pandas as pd\n",
    "import os\n",
    "import xml.etree.ElementTree as ET"
   ]
  },
  {
   "cell_type": "code",
   "execution_count": 6,
   "metadata": {},
   "outputs": [],
   "source": [
    "fichierxml=os.getcwd()+'/EXEMPLE4_0/fichiers_source/ticketsseuls.xml'"
   ]
  },
  {
   "cell_type": "code",
   "execution_count": 7,
   "metadata": {},
   "outputs": [],
   "source": [
    "tree = ET.parse(fichierxml)\n",
    "root = tree.getroot()"
   ]
  },
  {
   "cell_type": "code",
   "execution_count": 13,
   "metadata": {},
   "outputs": [],
   "source": [
    "ticket_items=[]\n",
    "all_tickets_items=[]\n",
    "line_items=[]\n",
    "all_line_items=[]"
   ]
  },
  {
   "cell_type": "code",
   "execution_count": 14,
   "metadata": {},
   "outputs": [],
   "source": [
    "for ticketno in root.iter('ticket'):\n",
    "    \n",
    "    ticketNo = ticketno.find('code').text\n",
    "    ticketOperation = ticketno.find('operation').text\n",
    "    ticketCaisse = ticketno.find('caisse').text\n",
    "    ticketDate = ticketno.find('date').text\n",
    "    ticketTTC = ticketno.find('totalTTC').text\n",
    "    ticketHT = ticketno.find('totalHT').text\n",
    "    \n",
    "    for lineno in ticketno.iter('ligne'):\n",
    "        ligneNo = lineno.attrib.get('id')\n",
    "        ligneProduit = lineno.find('produitId').text\n",
    "        lignedesignation = lineno.find('designation').text\n",
    "        ligneQuantite = lineno.find('quantite').text\n",
    "        ligneTauxtva = lineno.find('tauxTVA').text\n",
    "        ligneTotalTTC = lineno.find('totalTTC').text\n",
    "        ligneTotalHT = lineno.find('totalHT').text\n",
    "        line_items = [ticketNo, ticketOperation, ticketCaisse, ticketDate, ticketTTC, ticketHT, ligneProduit, lignedesignation, \\\n",
    "                      ligneQuantite, ligneTotalHT, ligneTotalTTC]\n",
    "        all_line_items.append(line_items)\n",
    "  \n",
    "    tickets_items = [ticketNo, ticketOperation, ticketCaisse, ticketDate, ticketTTC, ticketHT]\n",
    "    all_tickets_items.append(tickets_items)"
   ]
  },
  {
   "cell_type": "code",
   "execution_count": 15,
   "metadata": {},
   "outputs": [],
   "source": [
    "lineDf = pd.DataFrame(all_line_items, columns=['Noticket', 'Operation', 'Caisse', 'Date', 'TicketTTC', 'TicketHT', \\\n",
    "                                               'Produit','Désignation','Quantite','LigneHT','LigneTTC'])"
   ]
  },
  {
   "cell_type": "code",
   "execution_count": 16,
   "metadata": {},
   "outputs": [],
   "source": [
    "ticketDf = pd.DataFrame(all_tickets_items, columns=[\n",
    "  'NoTicket',  'Operation', 'Caisse', 'Date', 'TicketTTC', 'TicketHT'])"
   ]
  },
  {
   "cell_type": "code",
   "execution_count": 17,
   "metadata": {},
   "outputs": [
    {
     "data": {
      "text/html": [
       "<div>\n",
       "<style scoped>\n",
       "    .dataframe tbody tr th:only-of-type {\n",
       "        vertical-align: middle;\n",
       "    }\n",
       "\n",
       "    .dataframe tbody tr th {\n",
       "        vertical-align: top;\n",
       "    }\n",
       "\n",
       "    .dataframe thead th {\n",
       "        text-align: right;\n",
       "    }\n",
       "</style>\n",
       "<table border=\"1\" class=\"dataframe\">\n",
       "  <thead>\n",
       "    <tr style=\"text-align: right;\">\n",
       "      <th></th>\n",
       "      <th>Noticket</th>\n",
       "      <th>Noligne</th>\n",
       "      <th>Produit</th>\n",
       "      <th>Quantite</th>\n",
       "      <th>TauxTVA</th>\n",
       "      <th>TotalTTC</th>\n",
       "    </tr>\n",
       "  </thead>\n",
       "  <tbody>\n",
       "    <tr>\n",
       "      <th>0</th>\n",
       "      <td>1</td>\n",
       "      <td>11</td>\n",
       "      <td>27</td>\n",
       "      <td>1</td>\n",
       "      <td>1000</td>\n",
       "      <td>1800</td>\n",
       "    </tr>\n",
       "    <tr>\n",
       "      <th>1</th>\n",
       "      <td>2</td>\n",
       "      <td>34</td>\n",
       "      <td>102</td>\n",
       "      <td>1</td>\n",
       "      <td>1000</td>\n",
       "      <td>280</td>\n",
       "    </tr>\n",
       "    <tr>\n",
       "      <th>2</th>\n",
       "      <td>3</td>\n",
       "      <td>35</td>\n",
       "      <td>14</td>\n",
       "      <td>1</td>\n",
       "      <td>2000</td>\n",
       "      <td>6700</td>\n",
       "    </tr>\n",
       "    <tr>\n",
       "      <th>3</th>\n",
       "      <td>3</td>\n",
       "      <td>36</td>\n",
       "      <td>14</td>\n",
       "      <td>1</td>\n",
       "      <td>2000</td>\n",
       "      <td>6700</td>\n",
       "    </tr>\n",
       "    <tr>\n",
       "      <th>4</th>\n",
       "      <td>4</td>\n",
       "      <td>37</td>\n",
       "      <td>9</td>\n",
       "      <td>1</td>\n",
       "      <td>2000</td>\n",
       "      <td>4700</td>\n",
       "    </tr>\n",
       "    <tr>\n",
       "      <th>...</th>\n",
       "      <td>...</td>\n",
       "      <td>...</td>\n",
       "      <td>...</td>\n",
       "      <td>...</td>\n",
       "      <td>...</td>\n",
       "      <td>...</td>\n",
       "    </tr>\n",
       "    <tr>\n",
       "      <th>42064</th>\n",
       "      <td>14492</td>\n",
       "      <td>55320</td>\n",
       "      <td>361</td>\n",
       "      <td>1</td>\n",
       "      <td>2000</td>\n",
       "      <td>950</td>\n",
       "    </tr>\n",
       "    <tr>\n",
       "      <th>42065</th>\n",
       "      <td>14493</td>\n",
       "      <td>55456</td>\n",
       "      <td>6</td>\n",
       "      <td>1</td>\n",
       "      <td>1000</td>\n",
       "      <td>1000</td>\n",
       "    </tr>\n",
       "    <tr>\n",
       "      <th>42066</th>\n",
       "      <td>14493</td>\n",
       "      <td>55457</td>\n",
       "      <td>6</td>\n",
       "      <td>1</td>\n",
       "      <td>1000</td>\n",
       "      <td>1000</td>\n",
       "    </tr>\n",
       "    <tr>\n",
       "      <th>42067</th>\n",
       "      <td>14493</td>\n",
       "      <td>55458</td>\n",
       "      <td>6</td>\n",
       "      <td>1</td>\n",
       "      <td>1000</td>\n",
       "      <td>1000</td>\n",
       "    </tr>\n",
       "    <tr>\n",
       "      <th>42068</th>\n",
       "      <td>14493</td>\n",
       "      <td>55459</td>\n",
       "      <td>6</td>\n",
       "      <td>1</td>\n",
       "      <td>1000</td>\n",
       "      <td>1000</td>\n",
       "    </tr>\n",
       "  </tbody>\n",
       "</table>\n",
       "<p>42069 rows × 6 columns</p>\n",
       "</div>"
      ],
      "text/plain": [
       "      Noticket Noligne Produit Quantite TauxTVA TotalTTC\n",
       "0            1      11      27        1    1000     1800\n",
       "1            2      34     102        1    1000      280\n",
       "2            3      35      14        1    2000     6700\n",
       "3            3      36      14        1    2000     6700\n",
       "4            4      37       9        1    2000     4700\n",
       "...        ...     ...     ...      ...     ...      ...\n",
       "42064    14492   55320     361        1    2000      950\n",
       "42065    14493   55456       6        1    1000     1000\n",
       "42066    14493   55457       6        1    1000     1000\n",
       "42067    14493   55458       6        1    1000     1000\n",
       "42068    14493   55459       6        1    1000     1000\n",
       "\n",
       "[42069 rows x 6 columns]"
      ]
     },
     "execution_count": 17,
     "metadata": {},
     "output_type": "execute_result"
    }
   ],
   "source": [
    "lineDf"
   ]
  },
  {
   "cell_type": "code",
   "execution_count": 2,
   "metadata": {},
   "outputs": [
    {
     "data": {
      "text/plain": [
       "[['ananas', 'banane']]"
      ]
     },
     "execution_count": 2,
     "metadata": {},
     "output_type": "execute_result"
    }
   ],
   "source": [
    "all_items"
   ]
  },
  {
   "cell_type": "code",
   "execution_count": null,
   "metadata": {},
   "outputs": [],
   "source": []
  }
 ],
 "metadata": {
  "kernelspec": {
   "display_name": "Python 3",
   "language": "python",
   "name": "python3"
  },
  "language_info": {
   "codemirror_mode": {
    "name": "ipython",
    "version": 3
   },
   "file_extension": ".py",
   "mimetype": "text/x-python",
   "name": "python",
   "nbconvert_exporter": "python",
   "pygments_lexer": "ipython3",
   "version": "3.7.7"
  }
 },
 "nbformat": 4,
 "nbformat_minor": 4
}
